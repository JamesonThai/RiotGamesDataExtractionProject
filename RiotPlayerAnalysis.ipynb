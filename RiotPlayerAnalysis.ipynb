{
 "cells": [
  {
   "cell_type": "code",
   "execution_count": 1,
   "metadata": {
    "collapsed": true
   },
   "outputs": [],
   "source": [
    "# This Python 3 environment comes with many helpful analytics libraries installed\n",
    "# It is defined by the kaggle/python docker image: https://github.com/kaggle/docker-python\n",
    "# For example, here's several helpful packages to load in \n",
    "# Basic Libararies Imports\n",
    "import numpy as np # linear algebra\n",
    "import pandas as pd # data processing, CSV file I/O (e.g. pd.read_csv)\n",
    "import json"
   ]
  },
  {
   "cell_type": "code",
   "execution_count": 18,
   "metadata": {
    "scrolled": true
   },
   "outputs": [
    {
     "data": {
      "text/plain": [
       "[{'participantId': 1,\n",
       "  'player': {'accountId': 229136578,\n",
       "   'currentAccountId': 229136578,\n",
       "   'currentPlatformId': 'NA1',\n",
       "   'matchHistoryUri': '/v1/stats/player_history/NA1/229136578',\n",
       "   'platformId': 'NA1',\n",
       "   'profileIcon': 3379,\n",
       "   'summonerId': 68191533,\n",
       "   'summonerName': 'Uchiha Naruto'}},\n",
       " {'participantId': 2,\n",
       "  'player': {'accountId': 217810593,\n",
       "   'currentAccountId': 217810593,\n",
       "   'currentPlatformId': 'NA1',\n",
       "   'matchHistoryUri': '/v1/stats/player_history/NA1/217810593',\n",
       "   'platformId': 'NA1',\n",
       "   'profileIcon': 3860,\n",
       "   'summonerId': 56012594,\n",
       "   'summonerName': 'Love Tammy qwq'}},\n",
       " {'participantId': 3,\n",
       "  'player': {'accountId': 237779453,\n",
       "   'currentAccountId': 237779453,\n",
       "   'currentPlatformId': 'NA1',\n",
       "   'matchHistoryUri': '/v1/stats/player_history/NA1/237779453',\n",
       "   'platformId': 'NA1',\n",
       "   'profileIcon': 3505,\n",
       "   'summonerId': 85439619,\n",
       "   'summonerName': 'Westgate King'}},\n",
       " {'participantId': 4,\n",
       "  'player': {'accountId': 37662008,\n",
       "   'currentAccountId': 37662008,\n",
       "   'currentPlatformId': 'NA1',\n",
       "   'matchHistoryUri': '/v1/stats/player_history/NA/37662008',\n",
       "   'platformId': 'NA',\n",
       "   'profileIcon': 3799,\n",
       "   'summonerId': 23547773,\n",
       "   'summonerName': 'EyeofBeRa'}},\n",
       " {'participantId': 5,\n",
       "  'player': {'accountId': 226629195,\n",
       "   'currentAccountId': 226629195,\n",
       "   'currentPlatformId': 'NA1',\n",
       "   'matchHistoryUri': '/v1/stats/player_history/NA1/226629195',\n",
       "   'platformId': 'NA1',\n",
       "   'profileIcon': 1229,\n",
       "   'summonerId': 64299755,\n",
       "   'summonerName': 'Sôrrymasen'}},\n",
       " {'participantId': 6,\n",
       "  'player': {'accountId': 46262064,\n",
       "   'currentAccountId': 46262064,\n",
       "   'currentPlatformId': 'NA1',\n",
       "   'matchHistoryUri': '/v1/stats/player_history/NA1/46262064',\n",
       "   'platformId': 'NA1',\n",
       "   'profileIcon': 3632,\n",
       "   'summonerId': 31576070,\n",
       "   'summonerName': 'Doctor Mister'}},\n",
       " {'participantId': 7,\n",
       "  'player': {'accountId': 33252866,\n",
       "   'currentAccountId': 33252866,\n",
       "   'currentPlatformId': 'NA1',\n",
       "   'matchHistoryUri': '/v1/stats/player_history/NA/33252866',\n",
       "   'platformId': 'NA',\n",
       "   'profileIcon': 962,\n",
       "   'summonerId': 20325688,\n",
       "   'summonerName': 'Parya'}},\n",
       " {'participantId': 8,\n",
       "  'player': {'accountId': 209977890,\n",
       "   'currentAccountId': 209977890,\n",
       "   'currentPlatformId': 'NA1',\n",
       "   'matchHistoryUri': '/v1/stats/player_history/NA1/209977890',\n",
       "   'platformId': 'NA1',\n",
       "   'profileIcon': 1232,\n",
       "   'summonerId': 47005879,\n",
       "   'summonerName': 'BigDaddyDinkle'}},\n",
       " {'participantId': 9,\n",
       "  'player': {'accountId': 200878853,\n",
       "   'currentAccountId': 200878853,\n",
       "   'currentPlatformId': 'NA1',\n",
       "   'matchHistoryUri': '/v1/stats/player_history/NA1/200878853',\n",
       "   'platformId': 'NA1',\n",
       "   'profileIcon': 3790,\n",
       "   'summonerId': 37952195,\n",
       "   'summonerName': 'Meetchell'}},\n",
       " {'participantId': 10,\n",
       "  'player': {'accountId': 231869232,\n",
       "   'currentAccountId': 231869232,\n",
       "   'currentPlatformId': 'NA1',\n",
       "   'matchHistoryUri': '/v1/stats/player_history/NA1/231869232',\n",
       "   'platformId': 'NA1',\n",
       "   'profileIcon': 1113,\n",
       "   'summonerId': 72916331,\n",
       "   'summonerName': 'Dısappointment'}}]"
      ]
     },
     "execution_count": 18,
     "metadata": {},
     "output_type": "execute_result"
    }
   ],
   "source": [
    "# Importing player data\n",
    "# Need to do further filtering because there's an uneven amount of columns \n",
    "# playerData = pd.read_json(\"data/matches/DoctorMistermatch.json\")\n",
    "with open('data/matches/DoctorMistermatch.json') as json_data:\n",
    "    dat = json.load(json_data)\n",
    "# playerData = pd.DataFrame(data['gameCreation'])\n",
    "\n",
    "# participantIdentities=pd.DataFrame(data=dat['participantIdentities'])\n",
    "# participantIdentities\n",
    "vals"
   ]
  },
  {
   "cell_type": "code",
   "execution_count": null,
   "metadata": {
    "collapsed": true
   },
   "outputs": [],
   "source": []
  }
 ],
 "metadata": {
  "kernelspec": {
   "display_name": "Python 3",
   "language": "python",
   "name": "python3"
  },
  "language_info": {
   "codemirror_mode": {
    "name": "ipython",
    "version": 3
   },
   "file_extension": ".py",
   "mimetype": "text/x-python",
   "name": "python",
   "nbconvert_exporter": "python",
   "pygments_lexer": "ipython3",
   "version": "3.6.3"
  }
 },
 "nbformat": 4,
 "nbformat_minor": 2
}
